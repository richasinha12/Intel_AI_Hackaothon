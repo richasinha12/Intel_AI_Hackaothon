{
 "cells": [
  {
   "cell_type": "code",
   "execution_count": null,
   "id": "ded431a2",
   "metadata": {},
   "outputs": [],
   "source": []
  },
  {
   "cell_type": "markdown",
   "id": "0e879425",
   "metadata": {},
   "source": [
    "# Importing libraries"
   ]
  },
  {
   "cell_type": "code",
   "execution_count": 1,
   "id": "cf786274",
   "metadata": {},
   "outputs": [
    {
     "name": "stdout",
     "output_type": "stream",
     "text": [
      "Requirement already satisfied: SpeechRecognition in c:\\users\\akashsahlot\\documents\\yamnaya\\tbatsenv\\lib\\site-packages (3.10.0)\n",
      "Requirement already satisfied: requests>=2.26.0 in c:\\users\\akashsahlot\\documents\\yamnaya\\tbatsenv\\lib\\site-packages (from SpeechRecognition) (2.28.2)\n",
      "Requirement already satisfied: charset-normalizer<4,>=2 in c:\\users\\akashsahlot\\documents\\yamnaya\\tbatsenv\\lib\\site-packages (from requests>=2.26.0->SpeechRecognition) (3.0.1)\n",
      "Requirement already satisfied: idna<4,>=2.5 in c:\\users\\akashsahlot\\documents\\yamnaya\\tbatsenv\\lib\\site-packages (from requests>=2.26.0->SpeechRecognition) (3.4)\n",
      "Requirement already satisfied: urllib3<1.27,>=1.21.1 in c:\\users\\akashsahlot\\documents\\yamnaya\\tbatsenv\\lib\\site-packages (from requests>=2.26.0->SpeechRecognition) (1.26.14)\n",
      "Requirement already satisfied: certifi>=2017.4.17 in c:\\users\\akashsahlot\\documents\\yamnaya\\tbatsenv\\lib\\site-packages (from requests>=2.26.0->SpeechRecognition) (2022.12.7)\n",
      "Requirement already satisfied: gTTS in c:\\users\\akashsahlot\\documents\\yamnaya\\tbatsenv\\lib\\site-packages (2.3.1)\n",
      "Requirement already satisfied: click<8.2,>=7.1 in c:\\users\\akashsahlot\\documents\\yamnaya\\tbatsenv\\lib\\site-packages (from gTTS) (8.1.3)\n",
      "Requirement already satisfied: requests<3,>=2.27 in c:\\users\\akashsahlot\\documents\\yamnaya\\tbatsenv\\lib\\site-packages (from gTTS) (2.28.2)\n",
      "Requirement already satisfied: colorama in c:\\users\\akashsahlot\\documents\\yamnaya\\tbatsenv\\lib\\site-packages (from click<8.2,>=7.1->gTTS) (0.4.6)\n",
      "Requirement already satisfied: idna<4,>=2.5 in c:\\users\\akashsahlot\\documents\\yamnaya\\tbatsenv\\lib\\site-packages (from requests<3,>=2.27->gTTS) (3.4)\n",
      "Requirement already satisfied: urllib3<1.27,>=1.21.1 in c:\\users\\akashsahlot\\documents\\yamnaya\\tbatsenv\\lib\\site-packages (from requests<3,>=2.27->gTTS) (1.26.14)\n",
      "Requirement already satisfied: certifi>=2017.4.17 in c:\\users\\akashsahlot\\documents\\yamnaya\\tbatsenv\\lib\\site-packages (from requests<3,>=2.27->gTTS) (2022.12.7)\n",
      "Requirement already satisfied: charset-normalizer<4,>=2 in c:\\users\\akashsahlot\\documents\\yamnaya\\tbatsenv\\lib\\site-packages (from requests<3,>=2.27->gTTS) (3.0.1)\n",
      "Requirement already satisfied: transformers in c:\\users\\akashsahlot\\documents\\yamnaya\\tbatsenv\\lib\\site-packages (4.27.3)\n",
      "Requirement already satisfied: packaging>=20.0 in c:\\users\\akashsahlot\\documents\\yamnaya\\tbatsenv\\lib\\site-packages (from transformers) (23.0)\n",
      "Requirement already satisfied: pyyaml>=5.1 in c:\\users\\akashsahlot\\documents\\yamnaya\\tbatsenv\\lib\\site-packages (from transformers) (6.0)\n",
      "Requirement already satisfied: requests in c:\\users\\akashsahlot\\documents\\yamnaya\\tbatsenv\\lib\\site-packages (from transformers) (2.28.2)\n",
      "Requirement already satisfied: tqdm>=4.27 in c:\\users\\akashsahlot\\documents\\yamnaya\\tbatsenv\\lib\\site-packages (from transformers) (4.65.0)\n",
      "Requirement already satisfied: huggingface-hub<1.0,>=0.11.0 in c:\\users\\akashsahlot\\documents\\yamnaya\\tbatsenv\\lib\\site-packages (from transformers) (0.13.3)\n",
      "Requirement already satisfied: regex!=2019.12.17 in c:\\users\\akashsahlot\\documents\\yamnaya\\tbatsenv\\lib\\site-packages (from transformers) (2023.3.23)\n",
      "Requirement already satisfied: filelock in c:\\users\\akashsahlot\\documents\\yamnaya\\tbatsenv\\lib\\site-packages (from transformers) (3.10.6)\n",
      "Requirement already satisfied: numpy>=1.17 in c:\\users\\akashsahlot\\documents\\yamnaya\\tbatsenv\\lib\\site-packages (from transformers) (1.23.5)\n",
      "Requirement already satisfied: tokenizers!=0.11.3,<0.14,>=0.11.1 in c:\\users\\akashsahlot\\documents\\yamnaya\\tbatsenv\\lib\\site-packages (from transformers) (0.13.2)\n",
      "Requirement already satisfied: typing-extensions>=3.7.4.3 in c:\\users\\akashsahlot\\documents\\yamnaya\\tbatsenv\\lib\\site-packages (from huggingface-hub<1.0,>=0.11.0->transformers) (4.5.0)\n",
      "Requirement already satisfied: colorama in c:\\users\\akashsahlot\\documents\\yamnaya\\tbatsenv\\lib\\site-packages (from tqdm>=4.27->transformers) (0.4.6)\n",
      "Requirement already satisfied: certifi>=2017.4.17 in c:\\users\\akashsahlot\\documents\\yamnaya\\tbatsenv\\lib\\site-packages (from requests->transformers) (2022.12.7)\n",
      "Requirement already satisfied: idna<4,>=2.5 in c:\\users\\akashsahlot\\documents\\yamnaya\\tbatsenv\\lib\\site-packages (from requests->transformers) (3.4)\n",
      "Requirement already satisfied: urllib3<1.27,>=1.21.1 in c:\\users\\akashsahlot\\documents\\yamnaya\\tbatsenv\\lib\\site-packages (from requests->transformers) (1.26.14)\n",
      "Requirement already satisfied: charset-normalizer<4,>=2 in c:\\users\\akashsahlot\\documents\\yamnaya\\tbatsenv\\lib\\site-packages (from requests->transformers) (3.0.1)\n",
      "Requirement already satisfied: tensorflow in c:\\users\\akashsahlot\\documents\\yamnaya\\tbatsenv\\lib\\site-packages (2.11.0)\n",
      "Requirement already satisfied: tensorflow-intel==2.11.0 in c:\\users\\akashsahlot\\documents\\yamnaya\\tbatsenv\\lib\\site-packages (from tensorflow) (2.11.0)\n",
      "Requirement already satisfied: protobuf<3.20,>=3.9.2 in c:\\users\\akashsahlot\\documents\\yamnaya\\tbatsenv\\lib\\site-packages (from tensorflow-intel==2.11.0->tensorflow) (3.19.6)\n",
      "Requirement already satisfied: absl-py>=1.0.0 in c:\\users\\akashsahlot\\documents\\yamnaya\\tbatsenv\\lib\\site-packages (from tensorflow-intel==2.11.0->tensorflow) (1.4.0)\n",
      "Requirement already satisfied: libclang>=13.0.0 in c:\\users\\akashsahlot\\documents\\yamnaya\\tbatsenv\\lib\\site-packages (from tensorflow-intel==2.11.0->tensorflow) (15.0.6.1)\n",
      "Requirement already satisfied: tensorflow-estimator<2.12,>=2.11.0 in c:\\users\\akashsahlot\\documents\\yamnaya\\tbatsenv\\lib\\site-packages (from tensorflow-intel==2.11.0->tensorflow) (2.11.0)\n",
      "Requirement already satisfied: keras<2.12,>=2.11.0 in c:\\users\\akashsahlot\\documents\\yamnaya\\tbatsenv\\lib\\site-packages (from tensorflow-intel==2.11.0->tensorflow) (2.11.0)\n",
      "Requirement already satisfied: wrapt>=1.11.0 in c:\\users\\akashsahlot\\documents\\yamnaya\\tbatsenv\\lib\\site-packages (from tensorflow-intel==2.11.0->tensorflow) (1.15.0)\n",
      "Requirement already satisfied: setuptools in c:\\users\\akashsahlot\\documents\\yamnaya\\tbatsenv\\lib\\site-packages (from tensorflow-intel==2.11.0->tensorflow) (67.4.0)\n",
      "Requirement already satisfied: numpy>=1.20 in c:\\users\\akashsahlot\\documents\\yamnaya\\tbatsenv\\lib\\site-packages (from tensorflow-intel==2.11.0->tensorflow) (1.23.5)\n",
      "Requirement already satisfied: termcolor>=1.1.0 in c:\\users\\akashsahlot\\documents\\yamnaya\\tbatsenv\\lib\\site-packages (from tensorflow-intel==2.11.0->tensorflow) (2.2.0)\n",
      "Requirement already satisfied: flatbuffers>=2.0 in c:\\users\\akashsahlot\\documents\\yamnaya\\tbatsenv\\lib\\site-packages (from tensorflow-intel==2.11.0->tensorflow) (23.1.21)\n",
      "Requirement already satisfied: opt-einsum>=2.3.2 in c:\\users\\akashsahlot\\documents\\yamnaya\\tbatsenv\\lib\\site-packages (from tensorflow-intel==2.11.0->tensorflow) (3.3.0)\n",
      "Requirement already satisfied: typing-extensions>=3.6.6 in c:\\users\\akashsahlot\\documents\\yamnaya\\tbatsenv\\lib\\site-packages (from tensorflow-intel==2.11.0->tensorflow) (4.5.0)\n",
      "Requirement already satisfied: packaging in c:\\users\\akashsahlot\\documents\\yamnaya\\tbatsenv\\lib\\site-packages (from tensorflow-intel==2.11.0->tensorflow) (23.0)\n",
      "Requirement already satisfied: google-pasta>=0.1.1 in c:\\users\\akashsahlot\\documents\\yamnaya\\tbatsenv\\lib\\site-packages (from tensorflow-intel==2.11.0->tensorflow) (0.2.0)\n",
      "Requirement already satisfied: h5py>=2.9.0 in c:\\users\\akashsahlot\\documents\\yamnaya\\tbatsenv\\lib\\site-packages (from tensorflow-intel==2.11.0->tensorflow) (3.8.0)\n",
      "Requirement already satisfied: gast<=0.4.0,>=0.2.1 in c:\\users\\akashsahlot\\documents\\yamnaya\\tbatsenv\\lib\\site-packages (from tensorflow-intel==2.11.0->tensorflow) (0.4.0)\n",
      "Requirement already satisfied: tensorflow-io-gcs-filesystem>=0.23.1 in c:\\users\\akashsahlot\\documents\\yamnaya\\tbatsenv\\lib\\site-packages (from tensorflow-intel==2.11.0->tensorflow) (0.31.0)\n",
      "Requirement already satisfied: tensorboard<2.12,>=2.11 in c:\\users\\akashsahlot\\documents\\yamnaya\\tbatsenv\\lib\\site-packages (from tensorflow-intel==2.11.0->tensorflow) (2.11.2)\n",
      "Requirement already satisfied: six>=1.12.0 in c:\\users\\akashsahlot\\documents\\yamnaya\\tbatsenv\\lib\\site-packages (from tensorflow-intel==2.11.0->tensorflow) (1.16.0)\n",
      "Requirement already satisfied: astunparse>=1.6.0 in c:\\users\\akashsahlot\\documents\\yamnaya\\tbatsenv\\lib\\site-packages (from tensorflow-intel==2.11.0->tensorflow) (1.6.3)\n",
      "Requirement already satisfied: grpcio<2.0,>=1.24.3 in c:\\users\\akashsahlot\\documents\\yamnaya\\tbatsenv\\lib\\site-packages (from tensorflow-intel==2.11.0->tensorflow) (1.51.3)\n",
      "Requirement already satisfied: wheel<1.0,>=0.23.0 in c:\\users\\akashsahlot\\documents\\yamnaya\\tbatsenv\\lib\\site-packages (from astunparse>=1.6.0->tensorflow-intel==2.11.0->tensorflow) (0.38.4)\n",
      "Requirement already satisfied: markdown>=2.6.8 in c:\\users\\akashsahlot\\documents\\yamnaya\\tbatsenv\\lib\\site-packages (from tensorboard<2.12,>=2.11->tensorflow-intel==2.11.0->tensorflow) (3.4.1)\n",
      "Requirement already satisfied: tensorboard-plugin-wit>=1.6.0 in c:\\users\\akashsahlot\\documents\\yamnaya\\tbatsenv\\lib\\site-packages (from tensorboard<2.12,>=2.11->tensorflow-intel==2.11.0->tensorflow) (1.8.1)\n",
      "Requirement already satisfied: google-auth<3,>=1.6.3 in c:\\users\\akashsahlot\\documents\\yamnaya\\tbatsenv\\lib\\site-packages (from tensorboard<2.12,>=2.11->tensorflow-intel==2.11.0->tensorflow) (2.16.1)\n",
      "Requirement already satisfied: requests<3,>=2.21.0 in c:\\users\\akashsahlot\\documents\\yamnaya\\tbatsenv\\lib\\site-packages (from tensorboard<2.12,>=2.11->tensorflow-intel==2.11.0->tensorflow) (2.28.2)\n",
      "Requirement already satisfied: werkzeug>=1.0.1 in c:\\users\\akashsahlot\\documents\\yamnaya\\tbatsenv\\lib\\site-packages (from tensorboard<2.12,>=2.11->tensorflow-intel==2.11.0->tensorflow) (2.2.3)\n",
      "Requirement already satisfied: tensorboard-data-server<0.7.0,>=0.6.0 in c:\\users\\akashsahlot\\documents\\yamnaya\\tbatsenv\\lib\\site-packages (from tensorboard<2.12,>=2.11->tensorflow-intel==2.11.0->tensorflow) (0.6.1)\n",
      "Requirement already satisfied: google-auth-oauthlib<0.5,>=0.4.1 in c:\\users\\akashsahlot\\documents\\yamnaya\\tbatsenv\\lib\\site-packages (from tensorboard<2.12,>=2.11->tensorflow-intel==2.11.0->tensorflow) (0.4.6)\n",
      "Requirement already satisfied: cachetools<6.0,>=2.0.0 in c:\\users\\akashsahlot\\documents\\yamnaya\\tbatsenv\\lib\\site-packages (from google-auth<3,>=1.6.3->tensorboard<2.12,>=2.11->tensorflow-intel==2.11.0->tensorflow) (5.3.0)\n",
      "Requirement already satisfied: rsa<5,>=3.1.4 in c:\\users\\akashsahlot\\documents\\yamnaya\\tbatsenv\\lib\\site-packages (from google-auth<3,>=1.6.3->tensorboard<2.12,>=2.11->tensorflow-intel==2.11.0->tensorflow) (4.9)\n",
      "Requirement already satisfied: pyasn1-modules>=0.2.1 in c:\\users\\akashsahlot\\documents\\yamnaya\\tbatsenv\\lib\\site-packages (from google-auth<3,>=1.6.3->tensorboard<2.12,>=2.11->tensorflow-intel==2.11.0->tensorflow) (0.2.8)\n",
      "Requirement already satisfied: requests-oauthlib>=0.7.0 in c:\\users\\akashsahlot\\documents\\yamnaya\\tbatsenv\\lib\\site-packages (from google-auth-oauthlib<0.5,>=0.4.1->tensorboard<2.12,>=2.11->tensorflow-intel==2.11.0->tensorflow) (1.3.1)\n",
      "Requirement already satisfied: importlib-metadata>=4.4 in c:\\users\\akashsahlot\\documents\\yamnaya\\tbatsenv\\lib\\site-packages (from markdown>=2.6.8->tensorboard<2.12,>=2.11->tensorflow-intel==2.11.0->tensorflow) (6.0.0)\n",
      "Requirement already satisfied: certifi>=2017.4.17 in c:\\users\\akashsahlot\\documents\\yamnaya\\tbatsenv\\lib\\site-packages (from requests<3,>=2.21.0->tensorboard<2.12,>=2.11->tensorflow-intel==2.11.0->tensorflow) (2022.12.7)\n",
      "Requirement already satisfied: urllib3<1.27,>=1.21.1 in c:\\users\\akashsahlot\\documents\\yamnaya\\tbatsenv\\lib\\site-packages (from requests<3,>=2.21.0->tensorboard<2.12,>=2.11->tensorflow-intel==2.11.0->tensorflow) (1.26.14)\n",
      "Requirement already satisfied: charset-normalizer<4,>=2 in c:\\users\\akashsahlot\\documents\\yamnaya\\tbatsenv\\lib\\site-packages (from requests<3,>=2.21.0->tensorboard<2.12,>=2.11->tensorflow-intel==2.11.0->tensorflow) (3.0.1)\n",
      "Requirement already satisfied: idna<4,>=2.5 in c:\\users\\akashsahlot\\documents\\yamnaya\\tbatsenv\\lib\\site-packages (from requests<3,>=2.21.0->tensorboard<2.12,>=2.11->tensorflow-intel==2.11.0->tensorflow) (3.4)\n",
      "Requirement already satisfied: MarkupSafe>=2.1.1 in c:\\users\\akashsahlot\\documents\\yamnaya\\tbatsenv\\lib\\site-packages (from werkzeug>=1.0.1->tensorboard<2.12,>=2.11->tensorflow-intel==2.11.0->tensorflow) (2.1.2)\n",
      "Requirement already satisfied: zipp>=0.5 in c:\\users\\akashsahlot\\documents\\yamnaya\\tbatsenv\\lib\\site-packages (from importlib-metadata>=4.4->markdown>=2.6.8->tensorboard<2.12,>=2.11->tensorflow-intel==2.11.0->tensorflow) (3.15.0)\n",
      "Requirement already satisfied: pyasn1<0.5.0,>=0.4.6 in c:\\users\\akashsahlot\\documents\\yamnaya\\tbatsenv\\lib\\site-packages (from pyasn1-modules>=0.2.1->google-auth<3,>=1.6.3->tensorboard<2.12,>=2.11->tensorflow-intel==2.11.0->tensorflow) (0.4.8)\n",
      "Requirement already satisfied: oauthlib>=3.0.0 in c:\\users\\akashsahlot\\documents\\yamnaya\\tbatsenv\\lib\\site-packages (from requests-oauthlib>=0.7.0->google-auth-oauthlib<0.5,>=0.4.1->tensorboard<2.12,>=2.11->tensorflow-intel==2.11.0->tensorflow) (3.2.2)\n",
      "Requirement already satisfied: one-api in c:\\users\\akashsahlot\\documents\\yamnaya\\tbatsenv\\lib\\site-packages (1.21.3)\n",
      "Requirement already satisfied: pyyaml in c:\\users\\akashsahlot\\documents\\yamnaya\\tbatsenv\\lib\\site-packages (from one-api) (6.0)\n",
      "Requirement already satisfied: requests>=2.22.0 in c:\\users\\akashsahlot\\documents\\yamnaya\\tbatsenv\\lib\\site-packages (from one-api) (2.28.2)\n",
      "Requirement already satisfied: flake8>=3.7.8 in c:\\users\\akashsahlot\\documents\\yamnaya\\tbatsenv\\lib\\site-packages (from one-api) (6.0.0)\n",
      "Requirement already satisfied: pandas>=1.2.4 in c:\\users\\akashsahlot\\documents\\yamnaya\\tbatsenv\\lib\\site-packages (from one-api) (1.5.3)\n",
      "Requirement already satisfied: packaging in c:\\users\\akashsahlot\\documents\\yamnaya\\tbatsenv\\lib\\site-packages (from one-api) (23.0)\n",
      "Requirement already satisfied: tqdm>=4.32.1 in c:\\users\\akashsahlot\\documents\\yamnaya\\tbatsenv\\lib\\site-packages (from one-api) (4.65.0)\n",
      "Requirement already satisfied: iblutil>=1.1.0 in c:\\users\\akashsahlot\\documents\\yamnaya\\tbatsenv\\lib\\site-packages (from one-api) (1.6.0)\n",
      "Requirement already satisfied: numpy>=1.18 in c:\\users\\akashsahlot\\documents\\yamnaya\\tbatsenv\\lib\\site-packages (from one-api) (1.23.5)\n",
      "Requirement already satisfied: boto3 in c:\\users\\akashsahlot\\documents\\yamnaya\\tbatsenv\\lib\\site-packages (from one-api) (1.26.99)\n",
      "Requirement already satisfied: mccabe<0.8.0,>=0.7.0 in c:\\users\\akashsahlot\\documents\\yamnaya\\tbatsenv\\lib\\site-packages (from flake8>=3.7.8->one-api) (0.7.0)\n",
      "Requirement already satisfied: pycodestyle<2.11.0,>=2.10.0 in c:\\users\\akashsahlot\\documents\\yamnaya\\tbatsenv\\lib\\site-packages (from flake8>=3.7.8->one-api) (2.10.0)\n",
      "Requirement already satisfied: pyflakes<3.1.0,>=3.0.0 in c:\\users\\akashsahlot\\documents\\yamnaya\\tbatsenv\\lib\\site-packages (from flake8>=3.7.8->one-api) (3.0.1)\n",
      "Requirement already satisfied: pyarrow in c:\\users\\akashsahlot\\documents\\yamnaya\\tbatsenv\\lib\\site-packages (from iblutil>=1.1.0->one-api) (11.0.0)\n",
      "Requirement already satisfied: numba in c:\\users\\akashsahlot\\documents\\yamnaya\\tbatsenv\\lib\\site-packages (from iblutil>=1.1.0->one-api) (0.56.4)\n",
      "Requirement already satisfied: colorlog>=6.0.0 in c:\\users\\akashsahlot\\documents\\yamnaya\\tbatsenv\\lib\\site-packages (from iblutil>=1.1.0->one-api) (6.7.0)\n",
      "Requirement already satisfied: python-dateutil>=2.8.1 in c:\\users\\akashsahlot\\documents\\yamnaya\\tbatsenv\\lib\\site-packages (from pandas>=1.2.4->one-api) (2.8.2)\n",
      "Requirement already satisfied: pytz>=2020.1 in c:\\users\\akashsahlot\\documents\\yamnaya\\tbatsenv\\lib\\site-packages (from pandas>=1.2.4->one-api) (2022.7.1)\n",
      "Requirement already satisfied: certifi>=2017.4.17 in c:\\users\\akashsahlot\\documents\\yamnaya\\tbatsenv\\lib\\site-packages (from requests>=2.22.0->one-api) (2022.12.7)\n",
      "Requirement already satisfied: idna<4,>=2.5 in c:\\users\\akashsahlot\\documents\\yamnaya\\tbatsenv\\lib\\site-packages (from requests>=2.22.0->one-api) (3.4)\n",
      "Requirement already satisfied: urllib3<1.27,>=1.21.1 in c:\\users\\akashsahlot\\documents\\yamnaya\\tbatsenv\\lib\\site-packages (from requests>=2.22.0->one-api) (1.26.14)\n",
      "Requirement already satisfied: charset-normalizer<4,>=2 in c:\\users\\akashsahlot\\documents\\yamnaya\\tbatsenv\\lib\\site-packages (from requests>=2.22.0->one-api) (3.0.1)\n",
      "Requirement already satisfied: colorama in c:\\users\\akashsahlot\\documents\\yamnaya\\tbatsenv\\lib\\site-packages (from tqdm>=4.32.1->one-api) (0.4.6)\n",
      "Requirement already satisfied: s3transfer<0.7.0,>=0.6.0 in c:\\users\\akashsahlot\\documents\\yamnaya\\tbatsenv\\lib\\site-packages (from boto3->one-api) (0.6.0)\n",
      "Requirement already satisfied: botocore<1.30.0,>=1.29.99 in c:\\users\\akashsahlot\\documents\\yamnaya\\tbatsenv\\lib\\site-packages (from boto3->one-api) (1.29.99)\n",
      "Requirement already satisfied: jmespath<2.0.0,>=0.7.1 in c:\\users\\akashsahlot\\documents\\yamnaya\\tbatsenv\\lib\\site-packages (from boto3->one-api) (1.0.1)\n",
      "Requirement already satisfied: six>=1.5 in c:\\users\\akashsahlot\\documents\\yamnaya\\tbatsenv\\lib\\site-packages (from python-dateutil>=2.8.1->pandas>=1.2.4->one-api) (1.16.0)\n",
      "Requirement already satisfied: llvmlite<0.40,>=0.39.0dev0 in c:\\users\\akashsahlot\\documents\\yamnaya\\tbatsenv\\lib\\site-packages (from numba->iblutil>=1.1.0->one-api) (0.39.1)\n",
      "Requirement already satisfied: setuptools in c:\\users\\akashsahlot\\documents\\yamnaya\\tbatsenv\\lib\\site-packages (from numba->iblutil>=1.1.0->one-api) (67.4.0)\n",
      "Requirement already satisfied: mkl in c:\\users\\akashsahlot\\documents\\yamnaya\\tbatsenv\\lib\\site-packages (2022.2.1)\n",
      "Requirement already satisfied: intel-openmp==2022.* in c:\\users\\akashsahlot\\documents\\yamnaya\\tbatsenv\\lib\\site-packages (from mkl) (2022.2.1)\n",
      "Requirement already satisfied: tbb==2021.* in c:\\users\\akashsahlot\\documents\\yamnaya\\tbatsenv\\lib\\site-packages (from mkl) (2021.7.1)\n"
     ]
    }
   ],
   "source": [
    "# for speech to text\n",
    "!pip install SpeechRecognition  \n",
    "# for text to speech\n",
    "!pip install gTTS  \n",
    "# for language modelimport numpy as np\n",
    "\n",
    "!pip install transformers  \n",
    "!pip install tensorflow \n",
    "\n",
    "# intel One-api\n",
    "!pip install one-api\n",
    "!pip install mkl"
   ]
  },
  {
   "cell_type": "code",
   "execution_count": 2,
   "id": "d82b6eee",
   "metadata": {},
   "outputs": [
    {
     "name": "stdout",
     "output_type": "stream",
     "text": [
      "Requirement already satisfied: pyttsx3 in c:\\users\\akashsahlot\\anaconda3\\lib\\site-packages (2.90)\n",
      "Requirement already satisfied: pypiwin32 in c:\\users\\akashsahlot\\anaconda3\\lib\\site-packages (from pyttsx3) (223)\n",
      "Requirement already satisfied: comtypes in c:\\users\\akashsahlot\\anaconda3\\lib\\site-packages (from pyttsx3) (1.1.10)\n",
      "Requirement already satisfied: pywin32 in c:\\users\\akashsahlot\\anaconda3\\lib\\site-packages (from pyttsx3) (302)\n",
      "Note: you may need to restart the kernel to use updated packages.\n"
     ]
    }
   ],
   "source": [
    "pip install pyttsx3\n"
   ]
  },
  {
   "cell_type": "code",
   "execution_count": 3,
   "id": "27072149",
   "metadata": {},
   "outputs": [
    {
     "name": "stdout",
     "output_type": "stream",
     "text": [
      "Requirement already satisfied: PyAudio in c:\\users\\akashsahlot\\documents\\yamnaya\\tbatsenv\\lib\\site-packages (0.2.13)\n"
     ]
    }
   ],
   "source": [
    "!pip install PyAudio"
   ]
  },
  {
   "cell_type": "code",
   "execution_count": 4,
   "id": "dd57451e",
   "metadata": {},
   "outputs": [],
   "source": [
    "## for language model\n",
    "import transformers\n",
    "\n",
    "## for data\n",
    "#import os\n",
    "import datetime\n",
    "import numpy as np"
   ]
  },
  {
   "cell_type": "code",
   "execution_count": 5,
   "id": "08e7fc2e",
   "metadata": {},
   "outputs": [],
   "source": [
    "from gtts import gTTS\n",
    "import os"
   ]
  },
  {
   "cell_type": "code",
   "execution_count": 6,
   "id": "54195f6a",
   "metadata": {},
   "outputs": [],
   "source": [
    "import speech_recognition as sr"
   ]
  },
  {
   "cell_type": "code",
   "execution_count": 7,
   "id": "6e3bfee8",
   "metadata": {},
   "outputs": [],
   "source": [
    "import pyttsx3\n",
    "# import pyaudio"
   ]
  },
  {
   "cell_type": "code",
   "execution_count": 8,
   "id": "4b7505ab",
   "metadata": {},
   "outputs": [
    {
     "name": "stdout",
     "output_type": "stream",
     "text": [
      "Requirement already satisfied: mkl in c:\\users\\akashsahlot\\documents\\yamnaya\\tbatsenv\\lib\\site-packages (2022.2.1)\n",
      "Requirement already satisfied: tbb==2021.* in c:\\users\\akashsahlot\\documents\\yamnaya\\tbatsenv\\lib\\site-packages (from mkl) (2021.7.1)\n",
      "Requirement already satisfied: intel-openmp==2022.* in c:\\users\\akashsahlot\\documents\\yamnaya\\tbatsenv\\lib\\site-packages (from mkl) (2022.2.1)\n"
     ]
    }
   ],
   "source": [
    "!pip install mkl"
   ]
  },
  {
   "cell_type": "code",
   "execution_count": 9,
   "id": "b4c95d93",
   "metadata": {},
   "outputs": [
    {
     "name": "stdout",
     "output_type": "stream",
     "text": [
      "Requirement already satisfied: mkl_random in c:\\users\\akashsahlot\\anaconda3\\lib\\site-packages (1.2.2)\n",
      "Requirement already satisfied: numpy in c:\\users\\akashsahlot\\anaconda3\\lib\\site-packages (from mkl_random) (1.21.5)\n",
      "Note: you may need to restart the kernel to use updated packages.\n"
     ]
    }
   ],
   "source": [
    "pip install mkl_random\n"
   ]
  },
  {
   "cell_type": "code",
   "execution_count": 10,
   "id": "8b1271ed",
   "metadata": {},
   "outputs": [
    {
     "name": "stdout",
     "output_type": "stream",
     "text": [
      "Requirement already satisfied: mkl_random in c:\\users\\akashsahlot\\anaconda3\\lib\\site-packages (1.2.2)\n",
      "Requirement already satisfied: numpy in c:\\users\\akashsahlot\\anaconda3\\lib\\site-packages (from mkl_random) (1.21.5)\n",
      "Note: you may need to restart the kernel to use updated packages.\n"
     ]
    }
   ],
   "source": [
    "pip install --upgrade mkl_random"
   ]
  },
  {
   "cell_type": "code",
   "execution_count": 11,
   "id": "2f666da5",
   "metadata": {},
   "outputs": [],
   "source": [
    "import numpy as np\n",
    "import mkl_random\n",
    "# from mkl_random import  METHOD, BRNG"
   ]
  },
  {
   "cell_type": "markdown",
   "id": "38344a90",
   "metadata": {},
   "source": [
    "pip install pyaudio"
   ]
  },
  {
   "cell_type": "code",
   "execution_count": 26,
   "id": "02669e56",
   "metadata": {},
   "outputs": [],
   "source": [
    "import time"
   ]
  },
  {
   "cell_type": "code",
   "execution_count": 31,
   "id": "be1fdfc0",
   "metadata": {},
   "outputs": [
    {
     "name": "stdout",
     "output_type": "stream",
     "text": [
      "--- starting up Maya ---\n",
      "listening...\n"
     ]
    },
    {
     "name": "stderr",
     "output_type": "stream",
     "text": [
      "A decoder-only architecture is being used, but right-padding was detected! For correct generation results, please set `padding_side='left'` when initializing the tokenizer.\n"
     ]
    },
    {
     "name": "stdout",
     "output_type": "stream",
     "text": [
      "me -->  how are you\n",
      "ai -->  I'm good, how are you?\n",
      "listening...\n",
      "me -->  what is time right now\n",
      "ai -->  00:25\n",
      "listening...\n"
     ]
    },
    {
     "name": "stderr",
     "output_type": "stream",
     "text": [
      "A decoder-only architecture is being used, but right-padding was detected! For correct generation results, please set `padding_side='left'` when initializing the tokenizer.\n"
     ]
    },
    {
     "name": "stdout",
     "output_type": "stream",
     "text": [
      "me -->  what is temperature of Dubai\n",
      "ai -->  It's a desert.\n",
      "listening...\n"
     ]
    },
    {
     "name": "stderr",
     "output_type": "stream",
     "text": [
      "A decoder-only architecture is being used, but right-padding was detected! For correct generation results, please set `padding_side='left'` when initializing the tokenizer.\n"
     ]
    },
    {
     "name": "stdout",
     "output_type": "stream",
     "text": [
      "me -->  what is temperature of Dubai right now\n",
      "ai -->  It's currently about 30 degrees.\n",
      "listening...\n",
      "me -->  thank you\n",
      "Execution time: 0.0 seconds\n",
      "ai -->  peace out!\n",
      "listening...\n"
     ]
    },
    {
     "ename": "KeyboardInterrupt",
     "evalue": "",
     "output_type": "error",
     "traceback": [
      "\u001b[1;31m---------------------------------------------------------------------------\u001b[0m",
      "\u001b[1;31mKeyboardInterrupt\u001b[0m                         Traceback (most recent call last)",
      "\u001b[1;32m~\\AppData\\Local\\Temp\\ipykernel_12628\\1540226727.py\u001b[0m in \u001b[0;36m<module>\u001b[1;34m\u001b[0m\n\u001b[0;32m     38\u001b[0m \u001b[1;33m\u001b[0m\u001b[0m\n\u001b[0;32m     39\u001b[0m     \u001b[1;32mwhile\u001b[0m \u001b[1;32mTrue\u001b[0m\u001b[1;33m:\u001b[0m\u001b[1;33m\u001b[0m\u001b[1;33m\u001b[0m\u001b[0m\n\u001b[1;32m---> 40\u001b[1;33m         \u001b[0mai\u001b[0m\u001b[1;33m.\u001b[0m\u001b[0mspeech_to_text\u001b[0m\u001b[1;33m(\u001b[0m\u001b[1;33m)\u001b[0m\u001b[1;33m\u001b[0m\u001b[1;33m\u001b[0m\u001b[0m\n\u001b[0m\u001b[0;32m     41\u001b[0m \u001b[1;33m\u001b[0m\u001b[0m\n\u001b[0;32m     42\u001b[0m             \u001b[1;31m## wake up\u001b[0m\u001b[1;33m\u001b[0m\u001b[1;33m\u001b[0m\u001b[0m\n",
      "\u001b[1;32m~\\AppData\\Local\\Temp\\ipykernel_12628\\1540226727.py\u001b[0m in \u001b[0;36mspeech_to_text\u001b[1;34m(self)\u001b[0m\n\u001b[0;32m     10\u001b[0m              \u001b[0mrecognizer\u001b[0m\u001b[1;33m.\u001b[0m\u001b[0madjust_for_ambient_noise\u001b[0m\u001b[1;33m(\u001b[0m\u001b[0mmic\u001b[0m\u001b[1;33m,\u001b[0m \u001b[0mduration\u001b[0m\u001b[1;33m=\u001b[0m\u001b[1;36m1\u001b[0m\u001b[1;33m)\u001b[0m\u001b[1;33m\u001b[0m\u001b[1;33m\u001b[0m\u001b[0m\n\u001b[0;32m     11\u001b[0m              \u001b[0mprint\u001b[0m\u001b[1;33m(\u001b[0m\u001b[1;34m\"listening...\"\u001b[0m\u001b[1;33m)\u001b[0m\u001b[1;33m\u001b[0m\u001b[1;33m\u001b[0m\u001b[0m\n\u001b[1;32m---> 12\u001b[1;33m              \u001b[0maudio\u001b[0m \u001b[1;33m=\u001b[0m \u001b[0mrecognizer\u001b[0m\u001b[1;33m.\u001b[0m\u001b[0mlisten\u001b[0m\u001b[1;33m(\u001b[0m\u001b[0mmic\u001b[0m\u001b[1;33m)\u001b[0m\u001b[1;33m\u001b[0m\u001b[1;33m\u001b[0m\u001b[0m\n\u001b[0m\u001b[0;32m     13\u001b[0m         \u001b[1;32mtry\u001b[0m\u001b[1;33m:\u001b[0m\u001b[1;33m\u001b[0m\u001b[1;33m\u001b[0m\u001b[0m\n\u001b[0;32m     14\u001b[0m              \u001b[0mself\u001b[0m\u001b[1;33m.\u001b[0m\u001b[0mtext\u001b[0m \u001b[1;33m=\u001b[0m \u001b[0mrecognizer\u001b[0m\u001b[1;33m.\u001b[0m\u001b[0mrecognize_google\u001b[0m\u001b[1;33m(\u001b[0m\u001b[0maudio\u001b[0m\u001b[1;33m)\u001b[0m\u001b[1;33m\u001b[0m\u001b[1;33m\u001b[0m\u001b[0m\n",
      "\u001b[1;32m~\\anaconda3\\lib\\site-packages\\speech_recognition\\__init__.py\u001b[0m in \u001b[0;36mlisten\u001b[1;34m(self, source, timeout, phrase_time_limit, snowboy_configuration)\u001b[0m\n\u001b[0;32m    521\u001b[0m                     \u001b[1;32mbreak\u001b[0m\u001b[1;33m\u001b[0m\u001b[1;33m\u001b[0m\u001b[0m\n\u001b[0;32m    522\u001b[0m \u001b[1;33m\u001b[0m\u001b[0m\n\u001b[1;32m--> 523\u001b[1;33m                 \u001b[0mbuffer\u001b[0m \u001b[1;33m=\u001b[0m \u001b[0msource\u001b[0m\u001b[1;33m.\u001b[0m\u001b[0mstream\u001b[0m\u001b[1;33m.\u001b[0m\u001b[0mread\u001b[0m\u001b[1;33m(\u001b[0m\u001b[0msource\u001b[0m\u001b[1;33m.\u001b[0m\u001b[0mCHUNK\u001b[0m\u001b[1;33m)\u001b[0m\u001b[1;33m\u001b[0m\u001b[1;33m\u001b[0m\u001b[0m\n\u001b[0m\u001b[0;32m    524\u001b[0m                 \u001b[1;32mif\u001b[0m \u001b[0mlen\u001b[0m\u001b[1;33m(\u001b[0m\u001b[0mbuffer\u001b[0m\u001b[1;33m)\u001b[0m \u001b[1;33m==\u001b[0m \u001b[1;36m0\u001b[0m\u001b[1;33m:\u001b[0m \u001b[1;32mbreak\u001b[0m  \u001b[1;31m# reached end of the stream\u001b[0m\u001b[1;33m\u001b[0m\u001b[1;33m\u001b[0m\u001b[0m\n\u001b[0;32m    525\u001b[0m                 \u001b[0mframes\u001b[0m\u001b[1;33m.\u001b[0m\u001b[0mappend\u001b[0m\u001b[1;33m(\u001b[0m\u001b[0mbuffer\u001b[0m\u001b[1;33m)\u001b[0m\u001b[1;33m\u001b[0m\u001b[1;33m\u001b[0m\u001b[0m\n",
      "\u001b[1;32m~\\anaconda3\\lib\\site-packages\\speech_recognition\\__init__.py\u001b[0m in \u001b[0;36mread\u001b[1;34m(self, size)\u001b[0m\n\u001b[0;32m    197\u001b[0m \u001b[1;33m\u001b[0m\u001b[0m\n\u001b[0;32m    198\u001b[0m         \u001b[1;32mdef\u001b[0m \u001b[0mread\u001b[0m\u001b[1;33m(\u001b[0m\u001b[0mself\u001b[0m\u001b[1;33m,\u001b[0m \u001b[0msize\u001b[0m\u001b[1;33m)\u001b[0m\u001b[1;33m:\u001b[0m\u001b[1;33m\u001b[0m\u001b[1;33m\u001b[0m\u001b[0m\n\u001b[1;32m--> 199\u001b[1;33m             \u001b[1;32mreturn\u001b[0m \u001b[0mself\u001b[0m\u001b[1;33m.\u001b[0m\u001b[0mpyaudio_stream\u001b[0m\u001b[1;33m.\u001b[0m\u001b[0mread\u001b[0m\u001b[1;33m(\u001b[0m\u001b[0msize\u001b[0m\u001b[1;33m,\u001b[0m \u001b[0mexception_on_overflow\u001b[0m\u001b[1;33m=\u001b[0m\u001b[1;32mFalse\u001b[0m\u001b[1;33m)\u001b[0m\u001b[1;33m\u001b[0m\u001b[1;33m\u001b[0m\u001b[0m\n\u001b[0m\u001b[0;32m    200\u001b[0m \u001b[1;33m\u001b[0m\u001b[0m\n\u001b[0;32m    201\u001b[0m         \u001b[1;32mdef\u001b[0m \u001b[0mclose\u001b[0m\u001b[1;33m(\u001b[0m\u001b[0mself\u001b[0m\u001b[1;33m)\u001b[0m\u001b[1;33m:\u001b[0m\u001b[1;33m\u001b[0m\u001b[1;33m\u001b[0m\u001b[0m\n",
      "\u001b[1;32m~\\anaconda3\\lib\\site-packages\\pyaudio\\__init__.py\u001b[0m in \u001b[0;36mread\u001b[1;34m(self, num_frames, exception_on_overflow)\u001b[0m\n\u001b[0;32m    568\u001b[0m                 raise IOError(\"Not input stream\",\n\u001b[0;32m    569\u001b[0m                               paCanNotReadFromAnOutputOnlyStream)\n\u001b[1;32m--> 570\u001b[1;33m             return pa.read_stream(self._stream, num_frames,\n\u001b[0m\u001b[0;32m    571\u001b[0m                                   exception_on_overflow)\n\u001b[0;32m    572\u001b[0m \u001b[1;33m\u001b[0m\u001b[0m\n",
      "\u001b[1;31mKeyboardInterrupt\u001b[0m: "
     ]
    }
   ],
   "source": [
    "# Build the AI\n",
    "class ChatBot():\n",
    "    def __init__(self, name):\n",
    "        print(\"--- starting up\", name, \"---\")\n",
    "        self.name = name\n",
    "        \n",
    "    def speech_to_text(self):\n",
    "        recognizer = sr.Recognizer()\n",
    "        with sr.Microphone() as mic:\n",
    "             recognizer.adjust_for_ambient_noise(mic, duration=1)            \n",
    "             print(\"listening...\")\n",
    "             audio = recognizer.listen(mic)\n",
    "        try:\n",
    "             self.text = recognizer.recognize_google(audio)\n",
    "             print(\"me --> \", self.text)\n",
    "        except:\n",
    "             print(\"me -->  ERROR\")\n",
    "    \n",
    "    @staticmethod\n",
    "    def text_to_speech(text):\n",
    "        print(\"ai --> \", text)\n",
    "        engine = pyttsx3.init()\n",
    "        engine.say(text)\n",
    "        engine.runAndWait()\n",
    "\n",
    "    def wake_up(self, text):\n",
    "        return True if self.name in text.lower() else False\n",
    "    \n",
    "    @staticmethod\n",
    "    def action_time():\n",
    "        return datetime.datetime.now().time().strftime('%H:%M')\n",
    "\n",
    "        # Run the AI\n",
    "if __name__ == \"__main__\":\n",
    "    ai = ChatBot(name=\"Maya\")\n",
    "    nlp = transformers.pipeline(\"conversational\", model=\"microsoft/DialoGPT-medium\")\n",
    "    os.environ[\"TOKENIZERS_PARALLELISM\"] = \"true\"\n",
    "\n",
    "    while True:\n",
    "        ai.speech_to_text()\n",
    "\n",
    "            ## wake up\n",
    "        if ai.wake_up(ai.text) is True:\n",
    "            res = \"Hello I am Bheem the AI, what can I do for you?\"\n",
    "\n",
    "            ## action time\n",
    "        elif \"time\" in ai.text:\n",
    "            res = ai.action_time()\n",
    "\n",
    "            ## respond politely\n",
    "        elif any(i in ai.text for i in [\"thank\",\"thanks\",\"thank you\", \"I really appreaciate it\"]):\n",
    "            values=[\"you're welcome!\",\"anytime!\",\"no problem!\",\"cool!\",\"I'm here if you need me!\",\"peace out!\"]\n",
    "            st = time.time()\n",
    "            res = mkl_random.choice(values) \n",
    "            et = time.time()\n",
    "            # get the execution time\n",
    "            elapsed_time = et - st\n",
    "            print('Execution time:', elapsed_time, 'seconds')\n",
    "            \n",
    "            ## conversation\n",
    "        else:   \n",
    "            chat = nlp(transformers.Conversation(ai.text), pad_token_id=50256)\n",
    "            res = str(chat)\n",
    "            res = res[res.find(\"bot >> \")+6:].strip()\n",
    "\n",
    "        ai.text_to_speech(res)\n"
   ]
  },
  {
   "cell_type": "code",
   "execution_count": null,
   "id": "e717c931",
   "metadata": {},
   "outputs": [],
   "source": []
  },
  {
   "cell_type": "code",
   "execution_count": null,
   "id": "bd306aeb",
   "metadata": {},
   "outputs": [],
   "source": []
  }
 ],
 "metadata": {
  "kernelspec": {
   "display_name": "Python 3 (ipykernel)",
   "language": "python",
   "name": "python3"
  },
  "language_info": {
   "codemirror_mode": {
    "name": "ipython",
    "version": 3
   },
   "file_extension": ".py",
   "mimetype": "text/x-python",
   "name": "python",
   "nbconvert_exporter": "python",
   "pygments_lexer": "ipython3",
   "version": "3.9.13"
  }
 },
 "nbformat": 4,
 "nbformat_minor": 5
}
